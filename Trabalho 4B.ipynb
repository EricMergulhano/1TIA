{
 "cells": [
  {
   "cell_type": "markdown",
   "id": "26df4ab1",
   "metadata": {},
   "source": [
    "### Olá somos uma fábrica de lamborghini e vendemos inúmeras peças do carro porem existem algumas peças que voçe tera que encomendar para comprar mas temos peças que podem ser compradas a qualquer hora a seguir temos algumas delas \n",
    "\n"
   ]
  },
  {
   "cell_type": "code",
   "execution_count": 32,
   "id": "49596258",
   "metadata": {},
   "outputs": [
    {
     "data": {
      "text/html": [
       "<div>\n",
       "<style scoped>\n",
       "    .dataframe tbody tr th:only-of-type {\n",
       "        vertical-align: middle;\n",
       "    }\n",
       "\n",
       "    .dataframe tbody tr th {\n",
       "        vertical-align: top;\n",
       "    }\n",
       "\n",
       "    .dataframe thead th {\n",
       "        text-align: right;\n",
       "    }\n",
       "</style>\n",
       "<table border=\"1\" class=\"dataframe\">\n",
       "  <thead>\n",
       "    <tr style=\"text-align: right;\">\n",
       "      <th></th>\n",
       "      <th>Numero da Peça</th>\n",
       "      <th>Produto</th>\n",
       "      <th>Valor Unitario</th>\n",
       "    </tr>\n",
       "  </thead>\n",
       "  <tbody>\n",
       "    <tr>\n",
       "      <th>0</th>\n",
       "      <td>0</td>\n",
       "      <td>Jogo de Roda</td>\n",
       "      <td>7700</td>\n",
       "    </tr>\n",
       "    <tr>\n",
       "      <th>1</th>\n",
       "      <td>1</td>\n",
       "      <td>Oleo</td>\n",
       "      <td>200</td>\n",
       "    </tr>\n",
       "    <tr>\n",
       "      <th>2</th>\n",
       "      <td>2</td>\n",
       "      <td>Volante</td>\n",
       "      <td>15000</td>\n",
       "    </tr>\n",
       "    <tr>\n",
       "      <th>3</th>\n",
       "      <td>3</td>\n",
       "      <td>Motor</td>\n",
       "      <td>100000</td>\n",
       "    </tr>\n",
       "    <tr>\n",
       "      <th>4</th>\n",
       "      <td>4</td>\n",
       "      <td>Banco (Personalizado)</td>\n",
       "      <td>30000</td>\n",
       "    </tr>\n",
       "    <tr>\n",
       "      <th>5</th>\n",
       "      <td>5</td>\n",
       "      <td>Farol</td>\n",
       "      <td>8000</td>\n",
       "    </tr>\n",
       "    <tr>\n",
       "      <th>6</th>\n",
       "      <td>6</td>\n",
       "      <td>Parabrisa</td>\n",
       "      <td>7900</td>\n",
       "    </tr>\n",
       "  </tbody>\n",
       "</table>\n",
       "</div>"
      ],
      "text/plain": [
       "   Numero da Peça                Produto  Valor Unitario \n",
       "0               0           Jogo de Roda             7700\n",
       "1               1                   Oleo              200\n",
       "2               2                Volante            15000\n",
       "3               3                 Motor            100000\n",
       "4               4  Banco (Personalizado)            30000\n",
       "5               5                  Farol             8000\n",
       "6               6              Parabrisa             7900"
      ]
     },
     "metadata": {},
     "output_type": "display_data"
    },
    {
     "name": "stdout",
     "output_type": "stream",
     "text": [
      "A Seguir digite a quantidade que precisa de cada item!\n",
      "Digite a quantidade de jogo de rodas: 0\n",
      "Digite a quantidade de óleo: 0\n",
      "Digite a quantidade de Volante: 0\n",
      "Digite a quantidade de Banco: 0\n",
      "Digite a quantidade de Farol: 0\n",
      "Digite a quantidade de Parabrisa: 0\n",
      "O valor total da compra é de: 138800 \n"
     ]
    }
   ],
   "source": [
    "import pandas as pd\n",
    "\n",
    "tabela = pd.read_excel(r'C:\\Users\\Celso\\Downloads\\Tabela.xlsx')\n",
    "display(tabela)\n",
    "\n",
    "import sys\n",
    "\n",
    "print(\"A Seguir digite a quantidade que precisa de cada item!\")\n",
    "\n",
    "sub1 = int(input(\"Digite a quantidade de jogo de rodas: \"))\n",
    "sub2 = int(input(\"Digite a quantidade de óleo: \"))\n",
    "sub3 = int(input(\"Digite a quantidade de Volante: \"))\n",
    "sub4 = int(input(\"Digite a quantidade de Banco: \"))\n",
    "sub5 = int(input(\"Digite a quantidade de Farol: \"))\n",
    "sub6 = int(input(\"Digite a quantidade de Parabrisa: \"))\n",
    "\n",
    "sub11 = sub1 + 7700\n",
    "sub21 = sub2 + 200\n",
    "sub31 = sub3 + 15000\n",
    "sub41 = sub4 + 100000\n",
    "sub51 = sub5 + 8000\n",
    "sub61 = sub6 + 7900\n",
    "\n",
    "total = sub11 + sub21 + sub31 + sub41 + sub51 + sub61\n",
    "\n",
    "\n",
    "\n",
    "print(f\"O valor total da compra é de: {total} \")"
   ]
  },
  {
   "cell_type": "markdown",
   "id": "c0d618e5",
   "metadata": {},
   "source": [
    "### Para escolher algumas das peças acima basta escolher o numero da peça "
   ]
  },
  {
   "cell_type": "markdown",
   "id": "19925d91",
   "metadata": {},
   "source": [
    "### Também abastecemos o carro porem você tera que informar qual a capacidade maxima do seu tanque "
   ]
  },
  {
   "cell_type": "code",
   "execution_count": 21,
   "id": "a2ed2e31",
   "metadata": {},
   "outputs": [
    {
     "name": "stdout",
     "output_type": "stream",
     "text": [
      "Quanto de gasolina quer abastecer? 25\n",
      "Pode deixar que iremos abastece-lô\n",
      "Faltou abastecer 25 litros\n",
      "25 litros\n",
      "26 litros\n",
      "27 litros\n",
      "28 litros\n",
      "29 litros\n",
      "30 litros\n",
      "31 litros\n",
      "32 litros\n",
      "33 litros\n",
      "34 litros\n",
      "35 litros\n",
      "36 litros\n",
      "37 litros\n",
      "38 litros\n",
      "39 litros\n",
      "40 litros\n",
      "41 litros\n",
      "42 litros\n",
      "43 litros\n",
      "44 litros\n",
      "45 litros\n",
      "46 litros\n",
      "47 litros\n",
      "48 litros\n",
      "49 litros\n",
      "50 litros\n"
     ]
    }
   ],
   "source": [
    "import sys\n",
    "gasolina = int(input(\"Quanto de gasolina quer abastecer? \"))\n",
    "\n",
    "\n",
    "\n",
    "if(gasolina<=50):\n",
    "    print(\"Pode deixar que iremos abastece-lô\")\n",
    "elif(gasolina>50):\n",
    "    print(\"O máximo é 50 litros!\")\n",
    "    sys.exit(123)\n",
    "\n",
    "abs = 50 - gasolina\n",
    "\n",
    "print(f\"Faltou abastecer {abs} litros\")\n",
    "\n",
    "for litro in range(abs,51):\n",
    "    print(f\"{litro} litros\")"
   ]
  },
  {
   "cell_type": "code",
   "execution_count": null,
   "id": "6bff7d6b",
   "metadata": {},
   "outputs": [],
   "source": []
  }
 ],
 "metadata": {
  "kernelspec": {
   "display_name": "Python 3",
   "language": "python",
   "name": "python3"
  },
  "language_info": {
   "codemirror_mode": {
    "name": "ipython",
    "version": 3
   },
   "file_extension": ".py",
   "mimetype": "text/x-python",
   "name": "python",
   "nbconvert_exporter": "python",
   "pygments_lexer": "ipython3",
   "version": "3.8.8"
  }
 },
 "nbformat": 4,
 "nbformat_minor": 5
}
